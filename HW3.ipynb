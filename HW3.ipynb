{
  "nbformat": 4,
  "nbformat_minor": 0,
  "metadata": {
    "colab": {
      "name": "HW3.ipynb",
      "provenance": [],
      "collapsed_sections": []
    },
    "kernelspec": {
      "display_name": "Python 3",
      "language": "python",
      "name": "python3"
    },
    "language_info": {
      "codemirror_mode": {
        "name": "ipython",
        "version": 3
      },
      "file_extension": ".py",
      "mimetype": "text/x-python",
      "name": "python",
      "nbconvert_exporter": "python",
      "pygments_lexer": "ipython3",
      "version": "3.7.6"
    }
  },
  "cells": [
    {
      "cell_type": "markdown",
      "metadata": {
        "id": "XPsgwxLU2Sed"
      },
      "source": [
        "# Homework 3\n",
        "\n",
        "DUE DEC 1st at 11:59 PM\n"
      ]
    },
    {
      "cell_type": "markdown",
      "metadata": {
        "id": "dgdeprwQ2See"
      },
      "source": [
        "## Problem 1\n",
        "\n",
        "In this problem, you will implement a simple feed-forward neural network using PyTorch, a straight-forward and simple-to-pickup framework for quickly prototyping deep learning model. \n",
        "\n",
        "PyTorch provides 2 powerful things. First, a nice data structure called Tensor (basically a matrix, similar to Numpy ndarray). Tensor is optimized for matrix calculation and can be loaded to a GPU. Tensor is also implemented so that it's easy to calculate and pass back chains of gradients, which is extremely useful for backpropagation on neural network. Second, a nice inner mechanism called Autograd that nicely map variables involved a chain of calculations and efficiently calculate their gradients via the chain rule when needed. Read more here: https://towardsdatascience.com/pytorch-autograd-understanding-the-heart-of-pytorchs-magic-2686cd94ec95  \n",
        "\n",
        "You will train and evaluate the model on a simple dataset for classifying seeds. The dataset has 7 features and 3 labels. Refer to the example from the discussion session if needed. \n",
        "\n",
        "**In this problem, you are given a good amount of freedom in tweaking your choices in designing the network. As long as it's still a feed-forward network, it's fine. Accuracy does not matter as long as it's reasonable (like above 80%) but do try to achieve a high accuracy.**\n",
        "\n",
        "(Optional): the dataset provided to you is very simple. Instead, you can challenge yourself by trying more difficult datasets. Some datasets that you can loaded directly using PyTorch:\n",
        "- MNIST (Most famous dataset for getting into Deep Learning)\n",
        "- Fashion-MNIST\n",
        "- Kuzushiji-MNIST \n",
        "\n",
        "The datasets are available at https://pytorch.org/docs/stable/torchvision/datasets.html. You will get the same grade no matter what dataset you use. \n",
        "\n",
        "### Part a\n",
        "Firstly, load and inspect the dataset from \"seeds_dataset.csv\". Split them into a train set (90%) and a test set (10%). You should be quite comfortable with these operations by now. "
      ]
    },
    {
      "cell_type": "code",
      "metadata": {
        "colab": {
          "base_uri": "https://localhost:8080/"
        },
        "id": "3eztCAG02See",
        "outputId": "ee976750-6118-4259-8e4f-5847a8e456ed"
      },
      "source": [
        "import torch\n",
        "import pandas as pd\n",
        "import numpy as np\n",
        "import matplotlib.pyplot as plt\n",
        "import sys\n",
        "from torch.autograd import Variable\n",
        "import math\n",
        "from sklearn.model_selection import train_test_split\n",
        "from sklearn.utils import shuffle\n",
        "sys.path.append(\"/home/nbuser/.local/lib/python2.7/site-packages\")\n",
        "from google.colab import drive\n",
        "drive.mount('/content/drive')\n",
        "\n",
        "seeds_ds = pd.read_csv('/content/drive/My Drive/seeds_dataset.csv')\n",
        "X = seeds_ds.iloc[:,:-1].to_numpy(dtype=np.float32)\n",
        "y = seeds_ds.iloc[:,-1].astype(\"category\").cat.codes.to_numpy(dtype=np.float32)\n",
        "X_train, X_test, y_train, y_test = train_test_split(X, y, test_size=0.1)"
      ],
      "execution_count": 1,
      "outputs": [
        {
          "output_type": "stream",
          "text": [
            "Mounted at /content/drive\n"
          ],
          "name": "stdout"
        }
      ]
    },
    {
      "cell_type": "markdown",
      "metadata": {
        "id": "_KpCu45p2See"
      },
      "source": [
        "### Part b \n",
        "Create a Python class for our neural network model. The network should have 1 input layer, at least 1 hidden layer, and 1 output layer. You are free to choose the size and the number of hidden layers (it may affect the performance so try tweaking around a bit), and the activation function (or no activation at all).\n",
        "\n",
        "Some popular activation functions that you can try:\n",
        "- Sigmoid (torch.sigmoid)\n",
        "- ReLU (torch.relu)\n",
        "- Tanh (torch.tanh)"
      ]
    },
    {
      "cell_type": "code",
      "metadata": {
        "id": "uH6tsTUr2See"
      },
      "source": [
        "import torch\n",
        "\n",
        "class network(torch.nn.Module):\n",
        "    def __init__(self):\n",
        "        super(network,self).__init__()\n",
        "        self.layer1 = torch.nn.Linear(in_features=7, out_features=100)\n",
        "        self.layer2 = torch.nn.Linear(in_features=100, out_features=100)\n",
        "        self.outputlayer = torch.nn.Linear(in_features=100, out_features=10)\n",
        "        \n",
        "    def forward(self,x):\n",
        "        x = torch.relu(self.layer1(x))\n",
        "        x = torch.relu(self.layer2(x))\n",
        "        x = self.outputlayer(x)\n",
        "        return x\n",
        "    \n",
        "    # Create the network class by filling in this block of code"
      ],
      "execution_count": 2,
      "outputs": []
    },
    {
      "cell_type": "markdown",
      "metadata": {
        "id": "ebDMfYee2See"
      },
      "source": [
        "### Part c \n",
        "Train the network using the train dataset. You are free to choose any suitable optimizer and loss function provided by PyTorch (or you can just use SGD optimizer and CrossEntropyLoss like we did in the discussion session for simplicity). After each epoch, record the current loss and the current accuracy. The current accuracy is obtained by evaluating the model on the train dataset. \n",
        "\n",
        "Some optimizers that you can try:\n",
        "- SGD\n",
        "- Adagrad\n",
        "- Adam\n",
        "\n",
        "https://pytorch.org/docs/stable/optim.html"
      ]
    },
    {
      "cell_type": "code",
      "metadata": {
        "colab": {
          "base_uri": "https://localhost:8080/"
        },
        "id": "VTCFkzmm2See",
        "outputId": "69a5ccab-3546-48b8-edc4-f30f8794d58a"
      },
      "source": [
        "#LEARNING_RATE = 0.01\n",
        "#EPOCHS = 20\n",
        "\n",
        "epochs = 20\n",
        "learning_rate = 0.01\n",
        "batch_size = 32\n",
        "\n",
        "# Create the neural network\n",
        "network = network()\n",
        "# Define the loss function and the optimizer\n",
        "criterion = torch.nn.CrossEntropyLoss()\n",
        "optimizer = torch.optim.SGD(network.parameters(), lr=learning_rate) # Named SGD but actually mini-batch Gradient Descent\n",
        "\n",
        "# Set network in training mode\n",
        "network.train()\n",
        "\n",
        "training_size = len(X_train)\n",
        "num_batches = math.ceil(training_size/batch_size)\n",
        "epoch_list = []\n",
        "loss_list = []\n",
        "\n",
        "for epoch in range(epochs):\n",
        "    \n",
        "    X_train, y_train = shuffle(X_train, y_train)\n",
        "    \n",
        "    for batch in range(num_batches):\n",
        "        \n",
        "        X_train_batch = torch.tensor(X_train[batch*batch_size:min(batch*batch_size+batch_size,training_size),:])\n",
        "        y_train_batch = torch.tensor(y_train[batch*batch_size:min(batch*batch_size+batch_size,training_size)], dtype=torch.long)\n",
        "        \n",
        "        optimizer.zero_grad()\n",
        "        \n",
        "        output = network(X_train_batch)\n",
        "        \n",
        "        loss = criterion(output,y_train_batch)\n",
        "        loss.backward()\n",
        "        \n",
        "        optimizer.step()\n",
        "        \n",
        "    if (epoch % 1) == 0:\n",
        "        print(\"Epoch:\", epoch, \"Current loss: \", loss.item())\n",
        "        epoch_list.append(epoch)\n",
        "        loss_list.append(loss.item())"
      ],
      "execution_count": 4,
      "outputs": [
        {
          "output_type": "stream",
          "text": [
            "Epoch: 0 Current loss:  1.4500211477279663\n",
            "Epoch: 1 Current loss:  1.3417717218399048\n",
            "Epoch: 2 Current loss:  1.1161452531814575\n",
            "Epoch: 3 Current loss:  0.976028323173523\n",
            "Epoch: 4 Current loss:  0.9687619209289551\n",
            "Epoch: 5 Current loss:  0.9332392811775208\n",
            "Epoch: 6 Current loss:  1.0246338844299316\n",
            "Epoch: 7 Current loss:  0.8959879279136658\n",
            "Epoch: 8 Current loss:  0.8234519362449646\n",
            "Epoch: 9 Current loss:  0.8878958821296692\n",
            "Epoch: 10 Current loss:  1.2540075778961182\n",
            "Epoch: 11 Current loss:  0.7610530853271484\n",
            "Epoch: 12 Current loss:  0.7444222569465637\n",
            "Epoch: 13 Current loss:  0.8445077538490295\n",
            "Epoch: 14 Current loss:  0.7063884139060974\n",
            "Epoch: 15 Current loss:  0.6793363690376282\n",
            "Epoch: 16 Current loss:  0.8078745007514954\n",
            "Epoch: 17 Current loss:  0.6898461580276489\n",
            "Epoch: 18 Current loss:  0.5516267418861389\n",
            "Epoch: 19 Current loss:  1.0650771856307983\n"
          ],
          "name": "stdout"
        }
      ]
    },
    {
      "cell_type": "markdown",
      "metadata": {
        "id": "BoVUZHu02See"
      },
      "source": [
        "Plot how the loss and the accuracy change over the epochs. "
      ]
    },
    {
      "cell_type": "code",
      "metadata": {
        "colab": {
          "base_uri": "https://localhost:8080/",
          "height": 282
        },
        "id": "R4T-5QDs2See",
        "outputId": "8505bbb4-7b79-4f11-a75a-883c6a4908e7"
      },
      "source": [
        "plt.scatter(epoch_list, loss_list)"
      ],
      "execution_count": 5,
      "outputs": [
        {
          "output_type": "execute_result",
          "data": {
            "text/plain": [
              "<matplotlib.collections.PathCollection at 0x7f05277e6898>"
            ]
          },
          "metadata": {
            "tags": []
          },
          "execution_count": 5
        },
        {
          "output_type": "display_data",
          "data": {
            "image/png": "[encoded data removed]",
            "text/plain": [
              "<Figure size 432x288 with 1 Axes>"
            ]
          },
          "metadata": {
            "tags": [],
            "needs_background": "light"
          }
        }
      ]
    },
    {
      "cell_type": "markdown",
      "metadata": {
        "id": "bvFzNDRT2See"
      },
      "source": [
        "### Part d \n",
        "Evaluate the model on the test dataset. Print out the accuracy. Does this accuracy agrees with the training accuracy showed on the plot? Why may they be different?"
      ]
    },
    {
      "cell_type": "code",
      "metadata": {
        "colab": {
          "base_uri": "https://localhost:8080/"
        },
        "id": "t0eC-Wi32See",
        "outputId": "c6d46ad6-5b69-414e-99f0-29112f2f8458"
      },
      "source": [
        "network.eval()\n",
        "\n",
        "pred = torch.argmax(network(torch.tensor(X_test)), dim=1).numpy()\n",
        "\n",
        "print(\"Accuracy: \", np.sum(pred == y_test)/len(y_test))"
      ],
      "execution_count": 6,
      "outputs": [
        {
          "output_type": "stream",
          "text": [
            "Accuracy:  0.5238095238095238\n"
          ],
          "name": "stdout"
        }
      ]
    },
    {
      "cell_type": "markdown",
      "metadata": {
        "id": "iy6C2pFfyXIa"
      },
      "source": [
        "## Problem 2\n",
        "\n",
        "If you haven't done so already, please read Chapter 2 (on fairness) of the textbook."
      ]
    },
    {
      "cell_type": "markdown",
      "metadata": {
        "id": "pe6qfhRFyXIa"
      },
      "source": [
        "### Part a\n",
        "\n",
        "Import the 'semi_synthetic.csv' dataset. This dataset is a modified version of the UCI Credit card dataset (details [here](https://archive.ics.uci.edu/ml/datasets/default+of+credit+card+clients)). We added a new synthetic feature to this dataset called `LIMIT_BAL`. It is highly predictive for `SEX==2` but not at all for `SEX==1`. As it turns out, this causes issues with fairness where models rely too much on `LIMIT_BAL` and discriminate against `SEX==2`. We will try to mitigate this in terms of the fairness criterion 'Statistical Parity' as it's mentioned in the textbook."
      ]
    },
    {
      "cell_type": "code",
      "metadata": {
        "id": "HaqdFHPvyXIa"
      },
      "source": [
        "import pandas as pd\n",
        "semi_synth_ds = pd.read_csv('/content/drive/My Drive/semi_synthetic.csv')"
      ],
      "execution_count": 7,
      "outputs": []
    },
    {
      "cell_type": "markdown",
      "metadata": {
        "id": "QJhtmsUHyXIa"
      },
      "source": [
        "Extract features from the dataset (all columns except last) and call it `X`. Extract last column and call it `Y`. Also extract the `SEX` column and call this `SF` (for sensitive feature). Split all of these arrays data into train and test sets. You can use `sklearn.model_selection.train_test_split` and 20% ratio for the test dataset. Pass `stratify=Y` to `train_test_split` if you're using it. This ensures that both test and train datasets have the same ratio of 0/1 labels."
      ]
    },
    {
      "cell_type": "code",
      "metadata": {
        "id": "4RWhQl8zyXIa"
      },
      "source": [
        "from sklearn.model_selection import train_test_split \n",
        "import numpy as np\n",
        "import random\n",
        "random.seed(2020)\n",
        "np.random.seed(2020)\n",
        "\n",
        "X = semi_synth_ds.iloc[:,:-1]\n",
        "Y = semi_synth_ds.iloc[:,-1]\n",
        "SF = semi_synth_ds['SEX']\n",
        "X_train, X_test, y_train, y_test, S_train, S_test, = train_test_split(X, Y, SF, stratify=Y,test_size=0.2)"
      ],
      "execution_count": 8,
      "outputs": []
    },
    {
      "cell_type": "markdown",
      "metadata": {
        "id": "6_kwHg4SyXIa"
      },
      "source": [
        "Use a random forest classifier (whichever hyperparameters you want, you may leave it default) and train it using the train dataset (only `X_train` and `Y_train`. We will not use `SF_train` yet.)"
      ]
    },
    {
      "cell_type": "code",
      "metadata": {
        "id": "YESO3KAfyXIa"
      },
      "source": [
        "from sklearn.ensemble import RandomForestClassifier\n",
        "from sklearn.model_selection import StratifiedKFold, GridSearchCV, ParameterGrid, cross_val_score, cross_validate\n",
        "\n",
        "rf = RandomForestClassifier(n_estimators = 100).fit(X_train, y_train)"
      ],
      "execution_count": 10,
      "outputs": []
    },
    {
      "cell_type": "markdown",
      "metadata": {
        "id": "_U4MeVC3yXIa"
      },
      "source": [
        "### Part b\n",
        "\n",
        "Now we will consider the 'statistical parity' fairness metric on the test dataset. This basically means we compare the selection rates (i.e. predicted labels being 1) conditioned on sex and look at their difference/ratio. To do this, print 5 things: \n",
        "\n",
        "1. Overall selection rate (what percent is predicted as 1)\n",
        "2. Selection rate for `SEX==1`\n",
        "3. Selection rate for `SEX==2`\n",
        "4. Difference between 2. and 3.\n",
        "5. Ratio of 2. and 3.\n",
        "\n",
        "Note that we didn't use anything related to how accurate the model is."
      ]
    },
    {
      "cell_type": "code",
      "metadata": {
        "colab": {
          "base_uri": "https://localhost:8080/"
        },
        "id": "7U66xyj3vGuN",
        "outputId": "8b096890-3c03-4bd3-fda3-6bf0423e83d0"
      },
      "source": [
        "y_pred = rf.predict(X_test)\n",
        "y_metrics = X_test.copy(deep = True)\n",
        "y_metrics['Y_pred'] = y_pred\n",
        "y_1 = y_metrics[y_pred == 1]\n",
        "overall_select_rate = len(y_1)/len(y_pred)\n",
        "print(f\"Overall Selection Rate:{overall_select_rate}\")\n",
        "\n",
        "selection_rate_sex1 = len(y_1[y_1['SEX'] ==1])/len(y_metrics[y_metrics['SEX']==1])\n",
        "print(f\"Selection Rate for sex1:{selection_rate_sex1}\")\n",
        "\n",
        "selection_rate_sex2 = len(y_1[y_1['SEX'] ==2])/len(y_metrics[y_metrics['SEX']==2])\n",
        "print(f\"Selection Rate for sex1:{selection_rate_sex2}\")\n",
        "\n",
        "selection_rate_dif = abs(selection_rate_sex1 - selection_rate_sex2)\n",
        "print(f\"Difference between 2 and 3:{selection_rate_dif}\")\n",
        "\n",
        "selection_rate_ratio = selection_rate_sex1/selection_rate_sex2\n",
        "print(f\"Ratio of 2 and 3:{selection_rate_ratio}\")"
      ],
      "execution_count": 11,
      "outputs": [
        {
          "output_type": "stream",
          "text": [
            "Overall Selection Rate:0.154\n",
            "Selection Rate for sex1:0.1283147989734816\n",
            "Selection Rate for sex1:0.170398689240852\n",
            "Difference between 2 and 3:0.04208389026737039\n",
            "Ratio of 2 and 3:0.7530269132065539\n"
          ],
          "name": "stdout"
        }
      ]
    },
    {
      "cell_type": "markdown",
      "metadata": {
        "id": "R1Yn6sXXyXIa"
      },
      "source": [
        "There is a new Python package called `fairlearn` that aims to help machine learning researchers use fairness techniques more easily. Go ahead and download this package (`pip install fairlearn` or `conda install fairlearn`). Note: the authors of `fairlearn` call 'statistical parity' from the textbook as 'demographic parity'.\n",
        "\n",
        "We will use `selection_rate`, `demographic_parity_difference`, `demographic_parity_ratio` from `fairlearn.metrics` to calculate 1., 4. and 5. above. The way to use these functions is: first argument `Y_test`, second argument `Y_prediction`, and for `demographic_parity_difference` and `demographic_parity_ratio` you need to give a keyword argument for the 'sensitive feature' by `sensitive_features=SF_test`.\n",
        "\n",
        "Use these three functions and confirm your earlier calculations for 1., 4. and 5."
      ]
    },
    {
      "cell_type": "code",
      "metadata": {
        "colab": {
          "base_uri": "https://localhost:8080/"
        },
        "id": "WcnIXTEJzin1",
        "outputId": "06537f5c-290b-4611-e663-c380f2bd4945"
      },
      "source": [
        "!pip install fairlearn"
      ],
      "execution_count": 12,
      "outputs": [
        {
          "output_type": "stream",
          "text": [
            "Collecting fairlearn\n",
            "\u001b[?25l  Downloading https://files.pythonhosted.org/packages/3a/c6/64bdd611982cd2afef284f10022d1003b266ae7f86914418b8deda3ce2b2/fairlearn-0.5.0-py3-none-any.whl (24.6MB)\n",
            "\u001b[K     |████████████████████████████████| 24.6MB 1.6MB/s \n",
            "\u001b[?25hRequirement already satisfied: scipy>=1.4.1 in /usr/local/lib/python3.6/dist-packages (from fairlearn) (1.4.1)\n",
            "Requirement already satisfied: scikit-learn>=0.22.1 in /usr/local/lib/python3.6/dist-packages (from fairlearn) (0.22.2.post1)\n",
            "Requirement already satisfied: numpy>=1.17.2 in /usr/local/lib/python3.6/dist-packages (from fairlearn) (1.18.5)\n",
            "Requirement already satisfied: pandas>=0.25.1 in /usr/local/lib/python3.6/dist-packages (from fairlearn) (1.1.4)\n",
            "Requirement already satisfied: joblib>=0.11 in /usr/local/lib/python3.6/dist-packages (from scikit-learn>=0.22.1->fairlearn) (0.17.0)\n",
            "Requirement already satisfied: python-dateutil>=2.7.3 in /usr/local/lib/python3.6/dist-packages (from pandas>=0.25.1->fairlearn) (2.8.1)\n",
            "Requirement already satisfied: pytz>=2017.2 in /usr/local/lib/python3.6/dist-packages (from pandas>=0.25.1->fairlearn) (2018.9)\n",
            "Requirement already satisfied: six>=1.5 in /usr/local/lib/python3.6/dist-packages (from python-dateutil>=2.7.3->pandas>=0.25.1->fairlearn) (1.15.0)\n",
            "Installing collected packages: fairlearn\n",
            "Successfully installed fairlearn-0.5.0\n"
          ],
          "name": "stdout"
        }
      ]
    },
    {
      "cell_type": "code",
      "metadata": {
        "colab": {
          "base_uri": "https://localhost:8080/"
        },
        "id": "I27r9Mx1yXIa",
        "outputId": "05801171-52a7-4f26-9715-c8275654473c"
      },
      "source": [
        "from fairlearn.metrics import selection_rate, demographic_parity_difference, demographic_parity_ratio, MetricFrame\n",
        "from sklearn.metrics import accuracy_score, recall_score, precision_score\n",
        "\n",
        "y_hat = rf.fit(X_train, y_train).predict(X_test)\n",
        "overall_selection_rate = selection_rate(y_test, y_hat)\n",
        "print(f\"Overall Selection Rate: {overall_selection_rate}\")\n",
        "\n",
        "demo_parity_dif = demographic_parity_difference(y_test, y_hat, sensitive_features=S_test)\n",
        "print(f\"Demographic parity difference: {demo_parity_dif}\")\n",
        "\n",
        "demo_parity_ratio = demographic_parity_ratio(y_test, y_hat, sensitive_features=S_test)\n",
        "print(f\"Demographic parity ratio: {demo_parity_ratio}\")"
      ],
      "execution_count": 13,
      "outputs": [
        {
          "output_type": "stream",
          "text": [
            "Overall Selection Rate: 0.15483333333333332\n",
            "Demographic parity difference: 0.030835029636443745\n",
            "Demographic parity ratio: 0.8151916881691375\n"
          ],
          "name": "stdout"
        }
      ]
    },
    {
      "cell_type": "markdown",
      "metadata": {
        "id": "XViy0I5EyXIa"
      },
      "source": [
        "### Part c\n",
        "### Mitigating Unfairness with Giving Weights to Datapoints\n",
        "\n",
        "Now we are going to use the `GridSearch` function from `fairlearn.reductions` to try to mitigate this statistical parity discrepancy. This is one of the many ways to achieve this. What this function does is it gives higher weights to certain datapoints (determined by the sensitive feature) in order to change what the model learns. It automatically uses grid search to determine which weight should be given to `SEX==1` datapoints vs `SEX==2` datapoints (if you're interested you can read the source code). While it is called grid search, the space it searches is 1-dimensional. For our purposes, `GridSearch` takes four arguments: \n",
        "\n",
        "1. The model you defined above. This is a non-keyword argument.\n",
        "2. Constraint. This needs to be an object defined by `fairlearn`, the class we will be using is `fairlearn.reductions.DemographicParity`. It corresponds to minimizing the difference in selection rates (4. from above). This is a non-keyword argument.\n",
        "3. (Keyword argument) `grid_limit`. This determines the boundaries of the grid search. Basically, the `GridSearch` function will search the interval \\[-`grid_limit`,`grid_limit`\\] to find the weights. Choose this to be 0.8.\n",
        "3. (Keyword argument) `grid_size`. This determines how many points there will be in the grid search. Choose this to be 21.\n",
        "\n",
        "Just like `sklearn.model_selection.GridSearchCV` we have seen in HW1, `fairlearn.reductions.GridSearch` is also a wrapper, so you need to call `.fit()` on this wrapper (not the model directly). Training should be done in less than 5 minutes. In the end this wrapper will contain `grid_size` many models, each corresponding to a different weight for datapoints."
      ]
    },
    {
      "cell_type": "code",
      "metadata": {
        "id": "67Y6ezsJyXIa"
      },
      "source": [
        "from fairlearn.reductions import GridSearch, DemographicParity\n",
        "\n",
        "gridsearch_wrapper = GridSearch(rf, DemographicParity(), grid_limit = 0.8, grid_size = 21)\n",
        "gridsearch_wrapper.fit(X_train, y_train, sensitive_features=S_train)"
      ],
      "execution_count": 14,
      "outputs": []
    },
    {
      "cell_type": "markdown",
      "metadata": {
        "id": "15EO5RaTyXIa"
      },
      "source": [
        "The `GridSearch` wrapper object you trained has a field called `predictors_`. This gives a list of all the models trained in this grid search, which will be of size `grid_size`."
      ]
    },
    {
      "cell_type": "code",
      "metadata": {
        "id": "B7HdpQm_yXIa"
      },
      "source": [
        "predictions_sweep = [predictor.predict(X_test) for predictor in gridsearch_wrapper.predictors_] \n",
        "accuracy_sweep = [predictor.score(X_test, y_test) for predictor in gridsearch_wrapper.predictors_] "
      ],
      "execution_count": 15,
      "outputs": []
    },
    {
      "cell_type": "markdown",
      "metadata": {
        "id": "tXGkicwxyXIa"
      },
      "source": [
        "Notice that `predictions_sweep` is a 21 element list. Each of these elements is a numpy array that contains the predictions (`Y_pred`) for `X_test` for that particular model. Use `demographic_parity_difference` like you did above to find the difference in selection rates for each of these models and store these 'fairness metrics' in a numpy array (it too will be size 21)."
      ]
    },
    {
      "cell_type": "code",
      "metadata": {
        "id": "SZ-bxFwmyXIa"
      },
      "source": [
        "from sklearn.metrics import accuracy_score\n",
        "\n",
        "demographic_parity_sweep = [demographic_parity_difference(y_test, preds, sensitive_features=S_test) for preds in predictions_sweep]"
      ],
      "execution_count": 16,
      "outputs": []
    },
    {
      "cell_type": "markdown",
      "metadata": {
        "id": "ydkOWKGJyXIa"
      },
      "source": [
        "Plot the accuracy vs difference in selection rates for all these models in a scatter plot."
      ]
    },
    {
      "cell_type": "code",
      "metadata": {
        "id": "zzW_0fq2yXIa",
        "colab": {
          "base_uri": "https://localhost:8080/",
          "height": 279
        },
        "outputId": "32744d76-2125-4340-cd78-989717f20ecf"
      },
      "source": [
        "import matplotlib.pyplot as plt\n",
        "plt.figure()\n",
        "plt.scatter(accuracy_sweep, demographic_parity_sweep)\n",
        "plt.xlabel(\"Accuracy\")\n",
        "plt.ylabel(\"Difference in Selection Rate\")\n",
        "plt.show()"
      ],
      "execution_count": 17,
      "outputs": [
        {
          "output_type": "display_data",
          "data": {
            "image/png": "[encoded data removed]",
            "text/plain": [
              "<Figure size 432x288 with 1 Axes>"
            ]
          },
          "metadata": {
            "tags": [],
            "needs_background": "light"
          }
        }
      ]
    },
    {
      "cell_type": "markdown",
      "metadata": {
        "id": "uLrO9mVFyXIa"
      },
      "source": [
        "### Part d \n",
        "\n",
        "Now calculate the *pareto front*: go over each (accuracy, difference in selection rates) pair and compare it to every other pair. If you find the first pair to have lower accuracy and higher difference in selection rate, discard it."
      ]
    },
    {
      "cell_type": "code",
      "metadata": {
        "id": "4ElVQmrHyXIa"
      },
      "source": [
        "def pareto(points):\n",
        "    num = points.shape[0]\n",
        "    population_ids = np.arange(num)\n",
        "    pareto_front = np.ones(num, dtype=bool)\n",
        "    for i in range(num): \n",
        "        for j in range(num):\n",
        "            if all(points[j] >= points[i]) and any(points[j] > points[i]): \n",
        "                pareto_front[i] = 0 #discard pair if 1st fair has less accuracy + higher selection rate dif\n",
        "                break\n",
        "    return population_ids[pareto_front]\n",
        "\n",
        "c = np.vstack((demographic_parity_sweep, accuracy_sweep)).T\n",
        "pareto1 = pareto(c)\n",
        "pareto_front = c[pareto1]\n",
        "\n",
        "data = pd.DataFrame(pareto_front)\n",
        "data.sort_values(0, inplace=True)\n",
        "pareto_front = data.values"
      ],
      "execution_count": 18,
      "outputs": []
    },
    {
      "cell_type": "markdown",
      "metadata": {
        "id": "23SaZvzSyXIa"
      },
      "source": [
        "* Plot the accuracy vs difference in selection rates for all the models the grid search in a scatter plot.\n",
        "* On the same plot, plot the accuracy vs difference in selection rates for the points on the pareto front. Make these points red."
      ]
    },
    {
      "cell_type": "code",
      "metadata": {
        "id": "IGAsufEOyXIa",
        "colab": {
          "base_uri": "https://localhost:8080/",
          "height": 279
        },
        "outputId": "4fa38fe0-c7ed-43e2-8a7e-23862606ab85"
      },
      "source": [
        "plt.figure()\n",
        "x = c[:, 0]\n",
        "y = c[:, 1]\n",
        "x_pareto = pareto_front[:, 0]\n",
        "y_pareto = pareto_front[:, 1]\n",
        "plt.scatter(x,y)\n",
        "plt.plot(x_pareto, y_pareto, 'o-',color='red')\n",
        "plt.ylabel(\"Accuracy\")\n",
        "plt.xlabel(\"Difference in Selection Rate\")\n",
        "#plt.legend()\n",
        "plt.show()"
      ],
      "execution_count": 21,
      "outputs": [
        {
          "output_type": "display_data",
          "data": {
            "image/png": "[encoded data removed]",
            "text/plain": [
              "<Figure size 432x288 with 1 Axes>"
            ]
          },
          "metadata": {
            "tags": [],
            "needs_background": "light"
          }
        }
      ]
    },
    {
      "cell_type": "code",
      "metadata": {
        "colab": {
          "base_uri": "https://localhost:8080/",
          "height": 501
        },
        "id": "c7A_DG6-RcLy",
        "outputId": "c6ef5795-b4fa-4226-a135-79fde25141f5"
      },
      "source": [
        "plt.figure(figsize=(8,8)) #zoomed in plot\n",
        "plt.xlim([0,0.1])\n",
        "plt.ylim([0.85,0.86])\n",
        "x = c[:, 0]\n",
        "y = c[:, 1]\n",
        "x_pareto = pareto_front[:, 0]\n",
        "y_pareto = pareto_front[:, 1]\n",
        "plt.scatter(x,y)\n",
        "plt.plot(x_pareto, y_pareto, 'o-',color='red')\n",
        "plt.ylabel(\"Accuracy\")\n",
        "plt.xlabel(\"Difference in Selection Rate\")\n",
        "#plt.legend()\n",
        "plt.show()"
      ],
      "execution_count": 22,
      "outputs": [
        {
          "output_type": "display_data",
          "data": {
            "image/png": "[encoded data removed]",
            "text/plain": [
              "<Figure size 576x576 with 1 Axes>"
            ]
          },
          "metadata": {
            "tags": [],
            "needs_background": "light"
          }
        }
      ]
    },
    {
      "cell_type": "markdown",
      "metadata": {
        "id": "hKA_zKOByXIa"
      },
      "source": [
        "Which one of these models would you choose to use? Why?"
      ]
    },
    {
      "cell_type": "markdown",
      "metadata": {
        "id": "cMMK5A7YSm67"
      },
      "source": [
        "I would use the model that's around (0.04,0.8565) on the plot because that point lies very close to the pareto curve, has a high accuracy and low difference in selection rate, since a lower fairness score and and higher accuracy would indicate a better model. \n"
      ]
    },
    {
      "cell_type": "markdown",
      "metadata": {
        "id": "K-qHCrNsyXIa"
      },
      "source": [
        "## Problem 3\n",
        "\n",
        "This problem builds on ideas from paper 2a in Module 1: “Against prediction: Sentencing, Policing, And Punishing In An Actuarial Age,” Chicago Public Law And Legal Theory Working Paper No. 94, Harcourt, 2005. \n",
        "\n",
        "Suppose we have two groups $A$ and $B$ of population sizes $n$ and $9n$. We find that under equal surveillance, group $A$’s offending rate is $2$ offenses per month per person and that of group $B$ is $1$ offense per person per month (See Figure on page 17 of the above paper). Equal surveillance means that out of a total of $10m$ monitors, $m$ monitors are assigned to group $A$ and $9m$ monitors are assigned to group $B$. The surveillance is $\\frac{m}{n}$ per capita for both groups. So, under equal surveillance, the combined offending rate over both groups is $11n$ per month. \n",
        "\n",
        "Suppose we want to bring down the overall offending rate by increasing the monitors for group $A$. In order to do that we collected some data and found that we could model the rate of decrease in offenses for group $A$ by a function as follows:\n",
        "\tIf we increase the per capita surveillance from $\\frac{m}{n}$ to $\\frac{m}{n} (1 + \\delta_A)$, the offending rate declines to $2e^{- \\alpha \\delta_A}$. ($\\alpha>0$)\n",
        "\n",
        "Similarly, we modeled the rate of increase in offenses for group $B$ by a function under reduced surveillance as follows:\n",
        "\tIf we decrease the per capita monitoring rate from $\\frac{m}{n}$ to $\\frac{m}{n} (1 - \\delta_B)$, the offending rate rises to $e^{ \\beta \\delta_B}$. ($\\beta>0$)\n",
        "\n",
        "How would you distribute the monitors so that \n",
        "\n",
        "**a)** Both groups had the same offending rate?\n",
        "\n",
        "**b)** The combined offending rate was minimized?\n",
        "\n",
        "\n",
        "Consider 3 different scenarios when $\\alpha > \\beta$, $\\alpha = \\beta$, and $\\alpha < \\beta$. \n",
        "\n",
        "**c)** For each of the scenarios, which of the above solutions would you prefer and why?\n",
        "\n",
        "**TIPS**:\n",
        "- For **part a** and **part b**, answer by calculating $\\delta_A$ and $\\delta_B$.\n",
        "- Try to set up equations from the given information. This problem mostly consists of algebra.\n",
        "- If you do it correctly, **part c** should makes sense immediately.\n"
      ]
    },
    {
      "cell_type": "markdown",
      "metadata": {
        "id": "IY2pVtwPyXIa"
      },
      "source": [
        "**a)**\n",
        "\\\n",
        "2$e^{\\alpha  \\delta_A}$ = $e^{\\beta  \\delta_B}$\n",
        "\\\n",
        " $e^{\\alpha  \\delta_A + \\beta  \\delta_B}$ = 2\n",
        " \\\n",
        " m(1+ $\\delta_A$) + 9m(1- $\\delta_B$) = 10m\n",
        " \\\n",
        "  1 + $\\delta_A$ + 9 - 9$\\delta_B$ = 10\n",
        "  \\\n",
        "  $\\delta_A$ = 9 $\\delta_B$\n",
        "  \\\n",
        "  $e^{\\alpha  \\delta_A + \\beta  \\delta_B}$ = $e^{9\\alpha  \\delta_A + \\beta  \\delta_B}$ = $e^{(9\\alpha + \\beta)  \\delta_B}$ = 2\n",
        "  \\\n",
        "  ln(2) = (9$\\alpha + \\beta)  \\delta_B$\n",
        "  \\\n",
        "  \\\n",
        " $\\delta_B$  = $\\frac{ln(2)}{9\\alpha + \\beta}$\n",
        "  \\\n",
        " $\\delta_A$ = $\\frac{9ln(2)}{9\\alpha + \\beta}$\n",
        "\n",
        "\\"
      ]
    },
    {
      "cell_type": "markdown",
      "metadata": {
        "id": "5NbFjIZefUKs"
      },
      "source": [
        "**b)** \n",
        "\\\n",
        "d(2$e^{-\\alpha  \\delta_A} + e^{\\beta  \\delta_B}$) = 0\n",
        " \\\n",
        " $\\frac{d}{d\\delta_B}$ (2$e^{-9\\alpha  \\delta_B } + e^{\\beta  \\delta_B}$) = 0\n",
        " \\\n",
        "-18$\\alpha$ $e^{-9\\alpha  \\delta_B } + \\beta e^{\\beta  \\delta_B}$ = 0\n",
        "  \\\n",
        "  $e^{(9\\alpha  + \\beta) \\delta_B }$ = $\\frac{18\\alpha}{\\beta}$\n",
        "  \\\n",
        "   $(9\\alpha + \\beta)\\delta_B$ = $ln(\\frac{18\\alpha}{\\beta})$ = $ln(18\\alpha) - ln(\\beta)$\n",
        "  \\\n",
        "  \\\n",
        "  \n",
        " $\\delta_B$  = $\\frac{ln(18\\alpha) - ln(\\beta)}{9\\alpha + \\beta}$\n",
        "  \\\n",
        " $\\delta_A$ = $\\frac{9(ln(18\\alpha) - ln(\\beta))}{9\\alpha + \\beta}$\n",
        " \\\n"
      ]
    },
    {
      "cell_type": "markdown",
      "metadata": {
        "id": "LD1-sKfYkAjq"
      },
      "source": [
        "**c)**\n",
        "We would prefer to use the solution from part a. Although even though by increasing the number of monitors from part b would help decrease the offending rate for the group having a higher offending rate, this would be unfair for the other group. For instance, offending rates could possibly increase in the group having the lower offending rate when less monitors are assigned, since the people committing the offenses could possibly think that they could get away from their crimes more easily with less survelliance."
      ]
    }
  ]
}